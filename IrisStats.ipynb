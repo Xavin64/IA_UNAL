{
 "cells": [
  {
   "cell_type": "markdown",
   "id": "ba1f2417-ac59-4065-ab9c-c1f9607c43e8",
   "metadata": {},
   "source": [
    "# Segunda Clase"
   ]
  },
  {
   "cell_type": "code",
   "execution_count": 2,
   "id": "6f7e8cd7-8cc0-457b-86d8-c2eb72994373",
   "metadata": {},
   "outputs": [],
   "source": [
    "import pandas as pd\n",
    "import matplotlib.pyplot as plt"
   ]
  },
  {
   "cell_type": "markdown",
   "id": "d81b2a85-fa48-4685-a264-442240dfce01",
   "metadata": {},
   "source": [
    "## Creación de la clase IrisStats"
   ]
  },
  {
   "cell_type": "code",
   "execution_count": 24,
   "id": "bd658b1d-22ea-4cef-b7a7-34c70563638f",
   "metadata": {},
   "outputs": [],
   "source": [
    "class IrisStats:\n",
    "    def __init__(self, dir):\n",
    "        self.datos = pd.read_csv(dir)\n",
    "\n",
    "    def GenStats(self):\n",
    "        estadisticas = self.datos.describe()\n",
    "        return estadisticas\n",
    "\n",
    "    def VarNames(self):\n",
    "        nombres = self.datos.columns\n",
    "        return nombres.tolist()\n",
    "\n",
    "    def VarStats(self, nombre):\n",
    "        if nombre in self.datos.columns:\n",
    "            Stats = {\n",
    "                'Media': self.datos[nombre].mean(),\n",
    "                'Mediana': self.datos[nombre].median(),\n",
    "                'Desviación Estándar': self.datos[nombre].std(),\n",
    "                'Percentil 25': self.datos[nombre].quantile(0.25),\n",
    "                'Percentil 50': self.datos[nombre].quantile(0.50),\n",
    "                'Percentil 75': self.datos[nombre].quantile(0.75)\n",
    "            }\n",
    "            \n",
    "            # Dibuja un histograma de la distribución de la variable\n",
    "            self.datos[nombre].plot(kind='hist', bins=10)\n",
    "            plt.title(f'Histograma de {nombre}')\n",
    "            plt.xlabel(nombre)\n",
    "            plt.ylabel('Frecuencia')\n",
    "            plt.show()\n",
    "\n",
    "            return Stats\n",
    "            \n",
    "        else: return f'La variable \"{nombre}\" no fue encontrada en el conjunto de datos. Por favor ingrese una variable valida.\\nUsando el método \"VarNames\" puede ver las variables disponibles'\n",
    "        "
   ]
  },
  {
   "cell_type": "markdown",
   "id": "362c6cba-0dcb-4554-be25-f63be2602eff",
   "metadata": {},
   "source": [
    "## Instanciación de la clase en un objeto"
   ]
  },
  {
   "cell_type": "code",
   "execution_count": 25,
   "id": "d820e84c-b5a9-4892-b7ab-780935a317fa",
   "metadata": {},
   "outputs": [
    {
     "name": "stdout",
     "output_type": "stream",
     "text": [
      "Estadísticas generales:\n",
      "\n",
      "       sepal.length  sepal.width  petal.length  petal.width\n",
      "count    150.000000   150.000000    150.000000   150.000000\n",
      "mean       5.843333     3.057333      3.758000     1.199333\n",
      "std        0.828066     0.435866      1.765298     0.762238\n",
      "min        4.300000     2.000000      1.000000     0.100000\n",
      "25%        5.100000     2.800000      1.600000     0.300000\n",
      "50%        5.800000     3.000000      4.350000     1.300000\n",
      "75%        6.400000     3.300000      5.100000     1.800000\n",
      "max        7.900000     4.400000      6.900000     2.500000 \n",
      "\n",
      "Nombres de las variables en Iris:\n",
      "\n",
      "['sepal.length', 'sepal.width', 'petal.length', 'petal.width', 'variety'] \n",
      "\n",
      "La variable \"Random\" no fue encontrada en el conjunto de datos. Por favor ingrese una variable valida.\n",
      "Usando el método \"VarNames\" puede ver las variables disponibles \n",
      "\n",
      "Estadísticas de la variable:\n",
      "\n"
     ]
    },
    {
     "data": {
      "image/png": "[encoded data removed]",
      "text/plain": [
       "<Figure size 640x480 with 1 Axes>"
      ]
     },
     "metadata": {},
     "output_type": "display_data"
    },
    {
     "name": "stdout",
     "output_type": "stream",
     "text": [
      "{'Media': 1.1993333333333336, 'Mediana': 1.3, 'Desviación Estándar': 0.7622376689603465, 'Percentil 25': 0.3, 'Percentil 50': 1.3, 'Percentil 75': 1.8} \n",
      "\n"
     ]
    }
   ],
   "source": [
    "iris_2 = IrisStats(\"iris.csv\")\n",
    "\n",
    "print(\"Estadísticas generales:\\n\")\n",
    "print(iris_2.GenStats(),\"\\n\")\n",
    "\n",
    "print(\"Nombres de las variables en Iris:\\n\")\n",
    "print(iris_2.VarNames(),\"\\n\")\n",
    "\n",
    "# Prueba del control\n",
    "print(iris_2.VarStats(\"Random\"),\"\\n\")\n",
    "\n",
    "print(\"Estadísticas de la variable:\\n\")\n",
    "print(iris_2.VarStats(\"petal.width\"),\"\\n\")"
   ]
  }
 ],
 "metadata": {
  "kernelspec": {
   "display_name": "Python 3 (ipykernel)",
   "language": "python",
   "name": "python3"
  },
  "language_info": {
   "codemirror_mode": {
    "name": "ipython",
    "version": 3
   },
   "file_extension": ".py",
   "mimetype": "text/x-python",
   "name": "python",
   "nbconvert_exporter": "python",
   "pygments_lexer": "ipython3",
   "version": "3.11.3"
  }
 },
 "nbformat": 4,
 "nbformat_minor": 5
}
